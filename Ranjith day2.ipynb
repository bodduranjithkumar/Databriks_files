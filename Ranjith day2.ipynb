{
 "cells": [
  {
   "cell_type": "code",
   "execution_count": 5,
   "id": "949f2aff",
   "metadata": {},
   "outputs": [
    {
     "data": {
      "text/plain": [
       "(4, 5, 6, 7, 8, 9)"
      ]
     },
     "execution_count": 5,
     "metadata": {},
     "output_type": "execute_result"
    }
   ],
   "source": [
    "tup = 4,5,6,7,8,9\n",
    "tup"
   ]
  },
  {
   "cell_type": "code",
   "execution_count": 8,
   "id": "859abbd7",
   "metadata": {},
   "outputs": [
    {
     "data": {
      "text/plain": [
       "((4, 5, 6, 7), (7, 6, 8, 9))"
      ]
     },
     "execution_count": 8,
     "metadata": {},
     "output_type": "execute_result"
    }
   ],
   "source": [
    "##not a tuple\n",
    "tup =(4,5,6,7),(7,6,8,9)\n",
    "tup"
   ]
  },
  {
   "cell_type": "code",
   "execution_count": 9,
   "id": "81fc1c37",
   "metadata": {},
   "outputs": [
    {
     "data": {
      "text/plain": [
       "[4, 5, 6, 79]"
      ]
     },
     "execution_count": 9,
     "metadata": {},
     "output_type": "execute_result"
    }
   ],
   "source": [
    "List_1 = [4,5,6,79]\n",
    "List_1"
   ]
  },
  {
   "cell_type": "code",
   "execution_count": 10,
   "id": "92325e0a",
   "metadata": {},
   "outputs": [
    {
     "data": {
      "text/plain": [
       "(4, 5, 6, 79)"
      ]
     },
     "execution_count": 10,
     "metadata": {},
     "output_type": "execute_result"
    }
   ],
   "source": [
    "List_1 = 4,5,6,79\n",
    "tup1 = List_1\n",
    "tup1"
   ]
  },
  {
   "cell_type": "code",
   "execution_count": 11,
   "id": "e48fb600",
   "metadata": {},
   "outputs": [
    {
     "data": {
      "text/plain": [
       "tuple"
      ]
     },
     "execution_count": 11,
     "metadata": {},
     "output_type": "execute_result"
    }
   ],
   "source": [
    "type(tup1)"
   ]
  },
  {
   "cell_type": "code",
   "execution_count": 12,
   "id": "02830046",
   "metadata": {},
   "outputs": [
    {
     "data": {
      "text/plain": [
       "['fool', [1, 2], True, 3]"
      ]
     },
     "execution_count": 12,
     "metadata": {},
     "output_type": "execute_result"
    }
   ],
   "source": [
    "tup_1=['fool',[1,2], True]\n",
    "tup_1.append(3)\n",
    "tup_1"
   ]
  },
  {
   "cell_type": "code",
   "execution_count": 13,
   "id": "975dbe32",
   "metadata": {},
   "outputs": [
    {
     "data": {
      "text/plain": [
       "6"
      ]
     },
     "execution_count": 13,
     "metadata": {},
     "output_type": "execute_result"
    }
   ],
   "source": [
    "A= (1,81,4,9,16,81,25,36,81,49,64,81,100,81,16,81)\n",
    "A.count(81)"
   ]
  },
  {
   "cell_type": "code",
   "execution_count": 15,
   "id": "982f5499",
   "metadata": {},
   "outputs": [],
   "source": [
    "#### *not a tuple"
   ]
  },
  {
   "cell_type": "code",
   "execution_count": 16,
   "id": "ce9d1027",
   "metadata": {},
   "outputs": [],
   "source": [
    "def make_50(a,b):\n",
    "\n",
    "     if(a + b == 50):\n",
    "\n",
    "         return True\n",
    "\n",
    "     else:\n",
    "\n",
    "         return False"
   ]
  },
  {
   "cell_type": "code",
   "execution_count": 20,
   "id": "728a0c7e",
   "metadata": {},
   "outputs": [],
   "source": [
    "def reversed_order(a):\n",
    "\n",
    " b = a.split()\n",
    "\n",
    " b = list(reversed(b))\n",
    "\n",
    " print(\" \".join(b))"
   ]
  },
  {
   "cell_type": "markdown",
   "id": "5c0447d9",
   "metadata": {},
   "source": [
    "def myself(*args\n"
   ]
  },
  {
   "cell_type": "code",
   "execution_count": 22,
   "id": "c820b5f1",
   "metadata": {},
   "outputs": [],
   "source": [
    "def myself(*args,**Kwargs):\n",
    "    \n",
    "    if 'fruit' and 'juice' in kwargs:\n",
    "        print(f\"I like { ' '.join(args)} and my favorite fruit is {kwargs['fruit']} and {kwargs['juice']}.\")\n",
    "    else:\n",
    "        pass\n",
    "# pass, continue and break...."
   ]
  },
  {
   "cell_type": "code",
   "execution_count": 23,
   "id": "4f2d0cdf",
   "metadata": {},
   "outputs": [],
   "source": [
    "celsius=[0,11,21,23.2,45.4]"
   ]
  },
  {
   "cell_type": "code",
   "execution_count": 24,
   "id": "d733be4c",
   "metadata": {},
   "outputs": [],
   "source": [
    "fahren = [((9/5)*i+32) for i in celsius]"
   ]
  },
  {
   "cell_type": "code",
   "execution_count": 25,
   "id": "117cc601",
   "metadata": {},
   "outputs": [],
   "source": [
    "temp = [round(i,ndigits = 3) for i in fahren]"
   ]
  },
  {
   "cell_type": "code",
   "execution_count": 26,
   "id": "127a35d9",
   "metadata": {},
   "outputs": [
    {
     "data": {
      "text/plain": [
       "[32.0, 51.8, 69.8, 73.76, 113.72]"
      ]
     },
     "execution_count": 26,
     "metadata": {},
     "output_type": "execute_result"
    }
   ],
   "source": [
    "temp"
   ]
  },
  {
   "cell_type": "code",
   "execution_count": 27,
   "id": "6f3f14f4",
   "metadata": {},
   "outputs": [
    {
     "ename": "SyntaxError",
     "evalue": "invalid syntax (<ipython-input-27-5d125d419e5a>, line 1)",
     "output_type": "error",
     "traceback": [
      "\u001b[1;36m  File \u001b[1;32m\"<ipython-input-27-5d125d419e5a>\"\u001b[1;36m, line \u001b[1;32m1\u001b[0m\n\u001b[1;33m    nested list comprehension.....\u001b[0m\n\u001b[1;37m           ^\u001b[0m\n\u001b[1;31mSyntaxError\u001b[0m\u001b[1;31m:\u001b[0m invalid syntax\n"
     ]
    }
   ],
   "source": [
    "nested list comprehension....."
   ]
  },
  {
   "cell_type": "code",
   "execution_count": 32,
   "id": "faf8e636",
   "metadata": {},
   "outputs": [],
   "source": [
    "temp = [round(i, ndigits = 3) for i in [((9/5)*i + 32) for i in celsius]]"
   ]
  },
  {
   "cell_type": "code",
   "execution_count": 33,
   "id": "9043eba7",
   "metadata": {},
   "outputs": [
    {
     "data": {
      "text/plain": [
       "[32.0, 51.8, 69.8, 73.76, 113.72]"
      ]
     },
     "execution_count": 33,
     "metadata": {},
     "output_type": "execute_result"
    }
   ],
   "source": [
    "temp"
   ]
  },
  {
   "cell_type": "code",
   "execution_count": 34,
   "id": "12dce49b",
   "metadata": {},
   "outputs": [
    {
     "data": {
      "text/plain": [
       "[1, 16, 81, 256, 625, 1296, 2401, 4096, 6561]"
      ]
     },
     "execution_count": 34,
     "metadata": {},
     "output_type": "execute_result"
    }
   ],
   "source": [
    "#by using list comprehension find square of numbers from 1 to 9\n",
    "#and again use the nested list comprehension for the\n",
    "#double square....\n",
    "sqrr1 =[j*j for j in [i*i for i in range(1,10)]];sqrr1"
   ]
  },
  {
   "cell_type": "code",
   "execution_count": 36,
   "id": "52e1a14b",
   "metadata": {},
   "outputs": [],
   "source": [
    "#dictionery comprhension....\n",
    "list1 = [23,45,3,45,7]\n",
    "list2 = ['akash','ramesh','ravi','akbar','sukhbir']\n",
    "\n",
    "desc = {i:len(i)  for i in list2}"
   ]
  },
  {
   "cell_type": "code",
   "execution_count": 37,
   "id": "210352e8",
   "metadata": {},
   "outputs": [
    {
     "data": {
      "text/plain": [
       "5"
      ]
     },
     "execution_count": 37,
     "metadata": {},
     "output_type": "execute_result"
    }
   ],
   "source": [
    "len('akash')"
   ]
  },
  {
   "cell_type": "code",
   "execution_count": 38,
   "id": "969d3fff",
   "metadata": {},
   "outputs": [
    {
     "data": {
      "text/plain": [
       "{'akash': 5, 'ramesh': 6, 'ravi': 4, 'akbar': 5, 'sukhbir': 7}"
      ]
     },
     "execution_count": 38,
     "metadata": {},
     "output_type": "execute_result"
    }
   ],
   "source": [
    "desc"
   ]
  },
  {
   "cell_type": "code",
   "execution_count": 42,
   "id": "f0ff9805",
   "metadata": {},
   "outputs": [],
   "source": [
    "def cube(num):\n",
    "    return num**3"
   ]
  },
  {
   "cell_type": "code",
   "execution_count": 43,
   "id": "f79023a6",
   "metadata": {},
   "outputs": [
    {
     "data": {
      "text/plain": [
       "729"
      ]
     },
     "execution_count": 43,
     "metadata": {},
     "output_type": "execute_result"
    }
   ],
   "source": [
    "cube(9)"
   ]
  },
  {
   "cell_type": "code",
   "execution_count": 46,
   "id": "0da2bc86",
   "metadata": {},
   "outputs": [],
   "source": [
    "\n",
    "#lambda expression \n",
    "def square(num):\n",
    "    return num**2"
   ]
  },
  {
   "cell_type": "code",
   "execution_count": 45,
   "id": "30e3474f",
   "metadata": {},
   "outputs": [
    {
     "data": {
      "text/plain": [
       "25"
      ]
     },
     "execution_count": 45,
     "metadata": {},
     "output_type": "execute_result"
    }
   ],
   "source": [
    "square(5)"
   ]
  },
  {
   "cell_type": "code",
   "execution_count": 47,
   "id": "9ec8f294",
   "metadata": {},
   "outputs": [],
   "source": [
    "#lambda expression....\n",
    "square = lambda num: num**3"
   ]
  },
  {
   "cell_type": "code",
   "execution_count": 48,
   "id": "f415d62f",
   "metadata": {},
   "outputs": [
    {
     "data": {
      "text/plain": [
       "12812904"
      ]
     },
     "execution_count": 48,
     "metadata": {},
     "output_type": "execute_result"
    }
   ],
   "source": [
    "square(234)"
   ]
  },
  {
   "cell_type": "code",
   "execution_count": null,
   "id": "0e282bea",
   "metadata": {},
   "outputs": [],
   "source": []
  }
 ],
 "metadata": {
  "kernelspec": {
   "display_name": "Python 3",
   "language": "python",
   "name": "python3"
  },
  "language_info": {
   "codemirror_mode": {
    "name": "ipython",
    "version": 3
   },
   "file_extension": ".py",
   "mimetype": "text/x-python",
   "name": "python",
   "nbconvert_exporter": "python",
   "pygments_lexer": "ipython3",
   "version": "3.8.8"
  }
 },
 "nbformat": 4,
 "nbformat_minor": 5
}
